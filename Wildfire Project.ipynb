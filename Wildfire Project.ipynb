{
 "cells": [
  {
   "cell_type": "markdown",
   "id": "418ddfd6",
   "metadata": {},
   "source": [
    "# Individual Project"
   ]
  },
  {
   "cell_type": "markdown",
   "id": "49af7cae",
   "metadata": {},
   "source": [
    "## Data Analysis and Visualization of Large Wildfire Spread in Portugal"
   ]
  },
  {
   "cell_type": "markdown",
   "id": "997c6c54",
   "metadata": {},
   "source": []
  }
 ],
 "metadata": {
  "kernelspec": {
   "display_name": "Python 3",
   "language": "python",
   "name": "python3"
  },
  "language_info": {
   "codemirror_mode": {
    "name": "ipython",
    "version": 3
   },
   "file_extension": ".py",
   "mimetype": "text/x-python",
   "name": "python",
   "nbconvert_exporter": "python",
   "pygments_lexer": "ipython3",
   "version": "3.9.6 (default, May  7 2023, 23:32:45) \n[Clang 14.0.3 (clang-1403.0.22.14.1)]"
  },
  "vscode": {
   "interpreter": {
    "hash": "31f2aee4e71d21fbe5cf8b01ff0e069b9275f58929596ceb00d14d90e3e16cd6"
   }
  }
 },
 "nbformat": 4,
 "nbformat_minor": 5
}
